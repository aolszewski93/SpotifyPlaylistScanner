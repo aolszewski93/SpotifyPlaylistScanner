{
 "cells": [
  {
   "cell_type": "code",
   "execution_count": null,
   "id": "cf339160-fb85-42b2-b3d8-3ee380ccc364",
   "metadata": {},
   "outputs": [],
   "source": [
    "#import useful libraries\n",
    "import spotipy\n",
    "from spotipy.oauth2 import SpotifyOAuth\n"
   ]
  },
  {
   "cell_type": "code",
   "execution_count": null,
   "id": "aabb5e8a-7f0a-4e8f-9823-c2ffc3ed08a5",
   "metadata": {},
   "outputs": [],
   "source": [
    "#authenticate user\n",
    "scope = \"user-library-read\"\n",
    "sp = spotipy.Spotify(auth_manager=SpotifyOAuth(scope=scope))"
   ]
  },
  {
   "cell_type": "code",
   "execution_count": null,
   "id": "d884a25f-da60-4fe1-87d8-9542e19439ec",
   "metadata": {},
   "outputs": [],
   "source": [
    "#grab playlists\n",
    "user_playlists = sp.current_user_playlists()\n",
    "print(user_playlists)"
   ]
  }
 ],
 "metadata": {
  "kernelspec": {
   "display_name": "Python 3 (ipykernel)",
   "language": "python",
   "name": "python3"
  },
  "language_info": {
   "codemirror_mode": {
    "name": "ipython",
    "version": 3
   },
   "file_extension": ".py",
   "mimetype": "text/x-python",
   "name": "python",
   "nbconvert_exporter": "python",
   "pygments_lexer": "ipython3",
   "version": "3.7.4"
  }
 },
 "nbformat": 4,
 "nbformat_minor": 5
}
